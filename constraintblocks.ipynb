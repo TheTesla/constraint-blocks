{
 "cells": [
  {
   "cell_type": "code",
   "execution_count": 1,
   "metadata": {},
   "outputs": [],
   "source": "import z3"
  },
  {
   "cell_type": "code",
   "execution_count": 113,
   "metadata": {},
   "outputs": [],
   "source": "class ConstraintSystem:\n    def __init__(self):\n        self.constraintList = []\n        self.solution = []\n    \n    def clear(self):\n        self.constraintList = []\n    \n    def add(self, constraints):\n        if type(constraints) is list:\n            c = constraints\n        else:\n            c = [constraints]\n        self.constraintList.extend(c)\n\n    def solve(self):\n        solver = z3.Solver()\n        solver.add(self.constraintList)\n        self.solution = None\n        if 1 == solver.check().r:\n            self.solution = solver.model()\n        \n        \n    def getSolution(self):\n        return self.solution\n\n\ndef newScalar(name='var',val=None):\n    return z3.Real(name) if val is None else val\n\ndef newPoint2D(name='Pt',x=None,y=None):\n    return (newScalar(name+'_x',x), newScalar(name+'_y',y))\n\ndef pointOnLine(pt, pts, pte, t):\n    m = [pte[i] - pts[i] for i in range(len(pt))]\n    n = pts\n    return [pt[i] == t * m[i] + n[i] for i in range(len(pt))]\n    \ndef pointOnCircle(pt, m, r):\n    s = r**2\n    for i in range(len(pt)):\n        s -= (pt[i] - m[i])**2\n    return [0 == s]\n    "
  },
  {
   "cell_type": "code",
   "execution_count": 114,
   "metadata": {},
   "outputs": [],
   "source": "p = newPoint2D(y=3.45)\nt = z3.Real('t')\nc = pointOnLine(p, (3,3), (4,14), t)"
  },
  {
   "cell_type": "code",
   "execution_count": 115,
   "metadata": {},
   "outputs": [
    {
     "name": "stdout",
     "output_type": "stream",
     "text": "[Pt_x = 669/220, t = 9/220]\n"
    }
   ],
   "source": "z3.solve(c)"
  },
  {
   "cell_type": "code",
   "execution_count": 117,
   "metadata": {},
   "outputs": [
    {
     "name": "stdout",
     "output_type": "stream",
     "text": "None\n"
    }
   ],
   "source": "cs = ConstraintSystem()\ncs.add(pointOnCircle(newPoint2D(y=3.99),(1,1),2))\ncs.solve()\nprint(cs.getSolution())\n\n#x = z3.Real('x')\n#y = 2.9\n#c = pointOnCircle((x,y), (1,1), 2)"
  },
  {
   "cell_type": "code",
   "execution_count": 98,
   "metadata": {},
   "outputs": [
    {
     "data": {
      "text/plain": "[4 - (Pt_x - 1)**2 - 361/100 == 0]"
     },
     "execution_count": 98,
     "metadata": {},
     "output_type": "execute_result"
    }
   ],
   "source": "cs.constraintList"
  },
  {
   "cell_type": "code",
   "execution_count": 23,
   "metadata": {},
   "outputs": [
    {
     "data": {
      "text/plain": "18"
     },
     "execution_count": 23,
     "metadata": {},
     "output_type": "execute_result"
    }
   ],
   "source": "sum([5,6,7])"
  },
  {
   "cell_type": "code",
   "execution_count": 24,
   "metadata": {},
   "outputs": [],
   "source": "x = 1\nx +=3"
  },
  {
   "cell_type": "code",
   "execution_count": 48,
   "metadata": {},
   "outputs": [],
   "source": "v = [2,3,5]\nv.extend([8])"
  },
  {
   "cell_type": "code",
   "execution_count": 49,
   "metadata": {},
   "outputs": [
    {
     "data": {
      "text/plain": "[2, 3, 5, 8]"
     },
     "execution_count": 49,
     "metadata": {},
     "output_type": "execute_result"
    }
   ],
   "source": "v"
  },
  {
   "cell_type": "code",
   "execution_count": 51,
   "metadata": {},
   "outputs": [
    {
     "data": {
      "text/plain": "True"
     },
     "execution_count": 51,
     "metadata": {},
     "output_type": "execute_result"
    }
   ],
   "source": "type([]) is list"
  },
  {
   "cell_type": "code",
   "execution_count": 70,
   "metadata": {},
   "outputs": [],
   "source": "v=z3.Solver()"
  },
  {
   "cell_type": "code",
   "execution_count": 68,
   "metadata": {},
   "outputs": [
    {
     "data": {
      "text/plain": "[Pt_x == t*1 + 3, t*11 + 3 == 69/20]"
     },
     "execution_count": 68,
     "metadata": {},
     "output_type": "execute_result"
    }
   ],
   "source": "c"
  },
  {
   "cell_type": "code",
   "execution_count": 72,
   "metadata": {},
   "outputs": [],
   "source": "v.add(c)"
  },
  {
   "cell_type": "code",
   "execution_count": 73,
   "metadata": {},
   "outputs": [
    {
     "data": {
      "text/html": "<b>sat</b>",
      "text/plain": "sat"
     },
     "execution_count": 73,
     "metadata": {},
     "output_type": "execute_result"
    }
   ],
   "source": "v.check()"
  },
  {
   "cell_type": "code",
   "execution_count": 74,
   "metadata": {},
   "outputs": [
    {
     "data": {
      "text/html": "[Pt_x = 669/220, t = 9/220]",
      "text/plain": "[Pt_x = 669/220, t = 9/220]"
     },
     "execution_count": 74,
     "metadata": {},
     "output_type": "execute_result"
    }
   ],
   "source": "v.model()"
  },
  {
   "cell_type": "code",
   "execution_count": 88,
   "metadata": {},
   "outputs": [
    {
     "data": {
      "text/html": "[Pt_x = t&middot;1 + 3, t&middot;11 + 3 = 69/20]",
      "text/plain": "[Pt_x == t*1 + 3, t*11 + 3 == 69/20]"
     },
     "execution_count": 88,
     "metadata": {},
     "output_type": "execute_result"
    }
   ],
   "source": "v.units()"
  },
  {
   "cell_type": "code",
   "execution_count": 112,
   "metadata": {},
   "outputs": [
    {
     "name": "stdout",
     "output_type": "stream",
     "text": "1\n"
    }
   ],
   "source": "print(v.check().r)"
  },
  {
   "cell_type": "code",
   "execution_count": 92,
   "metadata": {},
   "outputs": [
    {
     "ename": "AttributeError",
     "evalue": "'Solver' object has no attribute 'solve'",
     "output_type": "error",
     "traceback": [
      "\u001b[0;31m---------------------------------------------------------------------------\u001b[0m",
      "\u001b[0;31mAttributeError\u001b[0m                            Traceback (most recent call last)",
      "\u001b[0;32m<ipython-input-92-b981656e0cb2>\u001b[0m in \u001b[0;36m<module>\u001b[0;34m\u001b[0m\n\u001b[0;32m----> 1\u001b[0;31m \u001b[0mv\u001b[0m\u001b[0;34m.\u001b[0m\u001b[0msolve\u001b[0m\u001b[0;34m(\u001b[0m\u001b[0;34m)\u001b[0m\u001b[0;34m\u001b[0m\u001b[0;34m\u001b[0m\u001b[0m\n\u001b[0m",
      "\u001b[0;31mAttributeError\u001b[0m: 'Solver' object has no attribute 'solve'"
     ]
    }
   ],
   "source": "v."
  },
  {
   "cell_type": "code",
   "execution_count": null,
   "metadata": {},
   "outputs": [],
   "source": ""
  }
 ],
 "metadata": {
  "kernelspec": {
   "display_name": "Python 3",
   "language": "python",
   "name": "python3"
  },
  "language_info": {
   "codemirror_mode": {
    "name": "ipython",
    "version": 3
   },
   "file_extension": ".py",
   "mimetype": "text/x-python",
   "name": "python",
   "nbconvert_exporter": "python",
   "pygments_lexer": "ipython3",
   "version": "3.6.9"
  }
 },
 "nbformat": 4,
 "nbformat_minor": 4
}
